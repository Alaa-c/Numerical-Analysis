{
 "cells": [
  {
   "cell_type": "code",
   "execution_count": 1,
   "id": "b3595af7",
   "metadata": {},
   "outputs": [],
   "source": [
    "import numpy as np\n",
    "import numpy.linalg as la"
   ]
  },
  {
   "cell_type": "markdown",
   "id": "43a1827d",
   "metadata": {},
   "source": [
    "# Jacobi"
   ]
  },
  {
   "cell_type": "code",
   "execution_count": 2,
   "id": "6acc9921",
   "metadata": {},
   "outputs": [],
   "source": [
    "\n",
    "def jacobi(m,b,tol):\n",
    "    xold=np.zeros_like(b)\n",
    "    d=np.diag(m)\n",
    "    D=np.diag(d) #diagonal matrix\n",
    "    lplusu=m-D\n",
    "    xnew=la.inv(D)@(b-(lplusu@xold))\n",
    "    counter=1\n",
    "    while la.norm(xnew-xold)/la.norm(xnew)>tol:\n",
    "              xold=xnew\n",
    "              xnew=la.inv(D)@(b-(lplusu@xold))\n",
    "              counter+=1\n",
    "    print(\"no of iterations=\",counter)\n",
    "    print(\"xnew=\",xnew)"
   ]
  },
  {
   "cell_type": "markdown",
   "id": "88674152",
   "metadata": {},
   "source": [
    "# Gauss siedel"
   ]
  },
  {
   "cell_type": "code",
   "execution_count": 6,
   "id": "1c60e16c",
   "metadata": {},
   "outputs": [],
   "source": [
    "def gaussSiedel(m,b,tol):\n",
    "    \n",
    "    xold=np.zeros_like(b)\n",
    "    lplusd=np.tril(m) #get l+d of updated guesses\n",
    "    u=m-lplusd #get upper matrix\n",
    "    xnew=la.inv(lplusd)@(b-(u@xold))\n",
    "    counter=1\n",
    "    while la.norm(xnew-xold)/la.norm(xnew)>tol:\n",
    "              xold=xnew\n",
    "              xnew=la.inv(lplusd)@(b-(u@xold))\n",
    "              counter+=1\n",
    "                \n",
    "    print(\"no of iterations=\",counter)\n",
    "    print(\"xnew=\",xnew)"
   ]
  },
  {
   "cell_type": "markdown",
   "id": "cf936871",
   "metadata": {},
   "source": [
    "# test"
   ]
  },
  {
   "cell_type": "code",
   "execution_count": 4,
   "id": "63cfa629",
   "metadata": {},
   "outputs": [
    {
     "name": "stdout",
     "output_type": "stream",
     "text": [
      "jacobi=\n",
      "no of iterations= 23\n",
      "xnew= [ 1.  2. -1.  1.]\n",
      "gauss-siedel=\n",
      "no of iterations= 10\n",
      "xnew= [ 1.  2. -1.  1.]\n"
     ]
    }
   ],
   "source": [
    "#1\n",
    "m=np.array([[10,-1,2,0],[-1,11,-1,3],[2,-1,10,-1],[0,3,-1,8]])\n",
    "tol=1e-8\n",
    "b=np.array([6,25,-11,15])\n",
    "print(\"jacobi=\")\n",
    "jacobi(m,b,tol)\n",
    "print(\"gauss-siedel=\")\n",
    "gaussSiedel(m,b,tol)"
   ]
  },
  {
   "cell_type": "markdown",
   "id": "95c4e45c",
   "metadata": {},
   "source": [
    "# Question1"
   ]
  },
  {
   "cell_type": "code",
   "execution_count": 9,
   "id": "203ed461",
   "metadata": {},
   "outputs": [
    {
     "name": "stdout",
     "output_type": "stream",
     "text": [
      "jacobi=\n",
      "no of iterations= 70\n",
      "xnew= [0.09019607 0.18039214 0.18039214 0.2980392  0.33333332 0.2980392\n",
      " 0.45490195 0.52156861 0.52156861 0.45490195]\n",
      "gauss-siedel=\n",
      "no of iterations= 38\n",
      "xnew= [0.09019607 0.18039215 0.18039215 0.29803921 0.33333333 0.29803921\n",
      " 0.45490196 0.52156862 0.52156862 0.45490196]\n"
     ]
    }
   ],
   "source": [
    "m=np.array([[4,-1,-1,0,0,0,0,0,0,0],\n",
    "            [-1,5,-1,-1,-1,0,0,0,0,0],\n",
    "            [-1,-1,5,0,-1,-1,0,0,0,0],\n",
    "            [0,-1,0,5,-1,0,-1,-1,0,0],\n",
    "            [0,-1,-1,-1,6,-1,0,-1,-1,0],\n",
    "            [0,0,-1,0,-1,5,0,0,-1,-1],\n",
    "            [0,0,0,-1,0,0,4,-1,0,0],\n",
    "            [0,0,0,-1,-1,0,-1,5,-1,0],\n",
    "            [0,0,0,0,-1,-1,0,-1,5,-1],\n",
    "            [0,0,0,0,0,-1,0,0,-1,4]])\n",
    "tol=1e-8\n",
    "b=np.array([0,0,0,0,0,0,1,1,1,1])\n",
    "print(\"jacobi=\")\n",
    "jacobi(m,b,tol)\n",
    "print(\"gauss-siedel=\")\n",
    "gaussSiedel(m,b,tol)\n"
   ]
  },
  {
   "cell_type": "markdown",
   "id": "62b2dcfc",
   "metadata": {},
   "source": [
    "# siedel converged faster"
   ]
  }
 ],
 "metadata": {
  "kernelspec": {
   "display_name": "Python 3 (ipykernel)",
   "language": "python",
   "name": "python3"
  },
  "language_info": {
   "codemirror_mode": {
    "name": "ipython",
    "version": 3
   },
   "file_extension": ".py",
   "mimetype": "text/x-python",
   "name": "python",
   "nbconvert_exporter": "python",
   "pygments_lexer": "ipython3",
   "version": "3.9.7"
  }
 },
 "nbformat": 4,
 "nbformat_minor": 5
}
