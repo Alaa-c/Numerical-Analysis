{
 "cells": [
  {
   "cell_type": "code",
   "execution_count": 4,
   "id": "6cd11f24",
   "metadata": {},
   "outputs": [],
   "source": [
    "import time\n",
    "def bisection(a,b,tol,f):\n",
    "    start=time.time()\n",
    "    counter=0\n",
    "    while abs(a-b)>tol:\n",
    "        mid=(a+b)/2\n",
    "        if f(a)*f(b)<0:\n",
    "            b=mid #soln in left\n",
    "        else:\n",
    "            a=mid #soln in right\n",
    "        counter+=1\n",
    "        \n",
    "    print(\"no of iterations=\",counter)\n",
    "    print(\"solution=\",mid)\n",
    "    end=time.time()\n",
    "    #print((end-start))\n",
    "# def f(x):\n",
    "#     return 2*x**2+6*x+4\n",
    "f=lambda x:2*x**2+6*x+4 #,tol=1e-1\n",
    "\n",
    "#bisection(-1.5,0,10**-5,f)\n",
    "\n",
    "    "
   ]
  },
  {
   "cell_type": "code",
   "execution_count": 6,
   "id": "d8009d32",
   "metadata": {},
   "outputs": [],
   "source": [
    "import numpy as np\n",
    "def fixedpt(g,x0,tol):\n",
    "    counter=1\n",
    "    xnew=g(x0)\n",
    "    xold=x0\n",
    "    \n",
    "    while abs(xnew-xold)>tol:\n",
    "        xold=xnew\n",
    "        xnew=g(xold)\n",
    "        counter+=1\n",
    "    #print(xnew)\n",
    "    print(\"no of iterations=\",counter)\n",
    "    print(\"solution=\",xnew)\n",
    "    \n",
    "    \n",
    "    \n",
    "g=lambda x: np.log(5*x-2)\n",
    "#fixedpt(g,2,1e-5)"
   ]
  },
  {
   "cell_type": "code",
   "execution_count": null,
   "id": "4de48ad8",
   "metadata": {},
   "outputs": [],
   "source": []
  },
  {
   "cell_type": "code",
   "execution_count": null,
   "id": "7679d8ff",
   "metadata": {},
   "outputs": [],
   "source": []
  }
 ],
 "metadata": {
  "kernelspec": {
   "display_name": "Python 3 (ipykernel)",
   "language": "python",
   "name": "python3"
  },
  "language_info": {
   "codemirror_mode": {
    "name": "ipython",
    "version": 3
   },
   "file_extension": ".py",
   "mimetype": "text/x-python",
   "name": "python",
   "nbconvert_exporter": "python",
   "pygments_lexer": "ipython3",
   "version": "3.9.7"
  }
 },
 "nbformat": 4,
 "nbformat_minor": 5
}
