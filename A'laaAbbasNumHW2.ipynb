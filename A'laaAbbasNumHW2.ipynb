{
 "cells": [
  {
   "cell_type": "code",
   "execution_count": 3,
   "id": "123c1939",
   "metadata": {},
   "outputs": [],
   "source": [
    "import ipynb.fs.full.BisectionFixedpt as bf #import code for bisec&fixedpt\n",
    "import numpy as np\n",
    "from scipy.misc import derivative\n",
    "import ipynb.fs.full.newton as nt #import prev made code for newton"
   ]
  },
  {
   "cell_type": "markdown",
   "id": "86c09467",
   "metadata": {},
   "source": [
    "# Question1"
   ]
  },
  {
   "cell_type": "code",
   "execution_count": 2,
   "id": "85e3601e",
   "metadata": {},
   "outputs": [
    {
     "name": "stdout",
     "output_type": "stream",
     "text": [
      "Bisection\n",
      "no of iterations= 18\n",
      "solution= -2.2500057220458984\n",
      "Fixed point\n",
      "no of iterations= 28\n",
      "solution= -1.0000162099453607\n",
      "Newton\n",
      "solution= -1.9999999999999996\n",
      "no of iterations= 6\n"
     ]
    }
   ],
   "source": [
    "f=lambda x:2*x**2+6*x+4\n",
    "a=-3\n",
    "b=-1.5\n",
    "g=lambda x:-1*(x**2+2)/3\n",
    "x0=-3\n",
    "tol=1e-5\n",
    "print(\"Bisection\")\n",
    "bf.bisection(a,b,tol,f)\n",
    "print(\"Fixed point\")\n",
    "bf.fixedpt(g,-1.5,tol)\n",
    "print(\"Newton\")\n",
    "nt.newton(f,x0,tol)"
   ]
  },
  {
   "cell_type": "markdown",
   "id": "59a8a782",
   "metadata": {},
   "source": [
    "# Question2 ,check convergence by abs(g'(x)<1)\n"
   ]
  },
  {
   "cell_type": "code",
   "execution_count": 5,
   "id": "cc002cd3",
   "metadata": {},
   "outputs": [
    {
     "name": "stdout",
     "output_type": "stream",
     "text": [
      "function diverges\n",
      "no of iterations= 20\n",
      "solution= 0.8842242800356657\n"
     ]
    }
   ],
   "source": [
    "a1=2\n",
    "a2=3\n",
    "x0=2\n",
    "g1=lambda x:(np.e**x+2)/5\n",
    "#check convergence\n",
    "gderiv=derivative(g1,x0,dx=1e-5)\n",
    "if gderiv<1:\n",
    "    print(\"function converges\")\n",
    "else:\n",
    "    print(\"function diverges\")\n",
    "bf.fixedpt(g1,x0,tol)"
   ]
  },
  {
   "cell_type": "markdown",
   "id": "0137f851",
   "metadata": {},
   "source": [
    "# Question3"
   ]
  },
  {
   "cell_type": "code",
   "execution_count": 9,
   "id": "cc1b5f27",
   "metadata": {},
   "outputs": [
    {
     "name": "stdout",
     "output_type": "stream",
     "text": [
      "using bisection\n",
      "no of iterations= 17\n",
      "solution= 2.1249923706054688\n",
      "using newton\n",
      "solution= -0.9999999999946277\n",
      "no of iterations= 6\n"
     ]
    }
   ],
   "source": [
    "fx=lambda x:np.e**x-5*x+2\n",
    "a=2\n",
    "b=3\n",
    "x0=1\n",
    "print(\"using bisection\")\n",
    "bf.bisection(a,b,tol,fx)\n",
    "print(\"using newton\")\n",
    "nt.newton(f,x0,tol)  # newton,function diverges"
   ]
  },
  {
   "cell_type": "markdown",
   "id": "3a6ab6ec",
   "metadata": {},
   "source": [
    "# Question4"
   ]
  },
  {
   "cell_type": "code",
   "execution_count": 17,
   "id": "56687a91",
   "metadata": {},
   "outputs": [
    {
     "name": "stdout",
     "output_type": "stream",
     "text": [
      "using newton\n",
      "solution= 1.368808107821427\n",
      "no of iterations= 5\n"
     ]
    }
   ],
   "source": [
    "fib=lambda x:x**3+2*x**2+10*x-20\n",
    "x0=0.1\n",
    "tol=1e-5\n",
    "print(\"using newton\")\n",
    "nt.newton(fib,x0,tol)\n",
    "#bf.bisection(1,3,tol,fib)\n"
   ]
  },
  {
   "cell_type": "code",
   "execution_count": null,
   "id": "0854c81f",
   "metadata": {},
   "outputs": [],
   "source": []
  },
  {
   "cell_type": "code",
   "execution_count": null,
   "id": "93694604",
   "metadata": {},
   "outputs": [],
   "source": []
  }
 ],
 "metadata": {
  "kernelspec": {
   "display_name": "Python 3 (ipykernel)",
   "language": "python",
   "name": "python3"
  },
  "language_info": {
   "codemirror_mode": {
    "name": "ipython",
    "version": 3
   },
   "file_extension": ".py",
   "mimetype": "text/x-python",
   "name": "python",
   "nbconvert_exporter": "python",
   "pygments_lexer": "ipython3",
   "version": "3.9.7"
  }
 },
 "nbformat": 4,
 "nbformat_minor": 5
}
