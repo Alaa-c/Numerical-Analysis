{
 "cells": [
  {
   "cell_type": "markdown",
   "id": "999acced",
   "metadata": {},
   "source": [
    "# This is absorption error, small no is added to large A, so it's neglected"
   ]
  },
  {
   "cell_type": "code",
   "execution_count": 24,
   "id": "ee540202",
   "metadata": {},
   "outputs": [
    {
     "name": "stdout",
     "output_type": "stream",
     "text": [
      "9007199254740992.0\n",
      "9007199254740992.0\n",
      "-1.0\n",
      "9007199254740992.0   53.0\n",
      "9007199254740992.0   53.0\n"
     ]
    }
   ],
   "source": [
    "from math import log\n",
    "# The Gentleman-Marovich Code\n",
    "A=1.0\n",
    "while ((A+1.0)-A)-1.0==0:\n",
    "    A=2*A\n",
    "    #print(((A+1.0)-A))\n",
    "# A is \"always\" a power of two!\n",
    "# We try to compute the SMALLEST value of n such that fl(1+2^n)==fl(2^n)\n",
    "print(A)\n",
    "print(A+1.0)\n",
    "print(((A+1.0)-A)-1.0)\n",
    "print(A,\" \",log(A)/log(2))\n",
    "print(A,\" \",log(A,2))"
   ]
  },
  {
   "cell_type": "markdown",
   "id": "bd839ed3",
   "metadata": {},
   "source": [
    "# It didn't enter the while loop because of the absorption error(-B!=0)"
   ]
  },
  {
   "cell_type": "code",
   "execution_count": 18,
   "id": "19e37720",
   "metadata": {},
   "outputs": [
    {
     "name": "stdout",
     "output_type": "stream",
     "text": [
      "A= 9007199254740992.0 log(A,2) 53.0\n",
      "B= 1.0\n"
     ]
    }
   ],
   "source": [
    "A = 9007199254740992.0\n",
    "B = 1.0\n",
    "while (((A+B)-A)-B)==0:\n",
    "    print(B)\n",
    "    B=B+1.0\n",
    "print(\"A=\",A , \"log(A,2)\", log(A,2))\n",
    "print(\"B=\",B)"
   ]
  },
  {
   "cell_type": "code",
   "execution_count": null,
   "id": "2efcca48",
   "metadata": {},
   "outputs": [],
   "source": []
  }
 ],
 "metadata": {
  "kernelspec": {
   "display_name": "Python 3 (ipykernel)",
   "language": "python",
   "name": "python3"
  },
  "language_info": {
   "codemirror_mode": {
    "name": "ipython",
    "version": 3
   },
   "file_extension": ".py",
   "mimetype": "text/x-python",
   "name": "python",
   "nbconvert_exporter": "python",
   "pygments_lexer": "ipython3",
   "version": "3.9.7"
  }
 },
 "nbformat": 4,
 "nbformat_minor": 5
}
