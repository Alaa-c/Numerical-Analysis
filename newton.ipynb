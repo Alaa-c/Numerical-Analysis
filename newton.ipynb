{
 "cells": [
  {
   "cell_type": "code",
   "execution_count": 1,
   "id": "1c7ebe57",
   "metadata": {},
   "outputs": [],
   "source": [
    "from scipy.misc import derivative\n",
    "import math\n",
    "def newton(f,xold,tol):\n",
    "    xnew=xold-f(xold)/derivative(f,xold,dx=0.5)\n",
    "    counter=1\n",
    "    while abs(xnew-xold)>tol:\n",
    "        xold=xnew\n",
    "        xnew=xold-f(xold)/derivative(f,xold,dx=1e-5)\n",
    "        counter+=1\n",
    "    print(\"solution=\",xnew)\n",
    "    print(\"no of iterations=\",counter)\n",
    "        \n",
    "f=lambda x:math.e**x-5*x+2\n",
    "#newton(f,3,1e-5)\n",
    "    "
   ]
  },
  {
   "cell_type": "code",
   "execution_count": null,
   "id": "d0b34378",
   "metadata": {},
   "outputs": [],
   "source": []
  }
 ],
 "metadata": {
  "kernelspec": {
   "display_name": "Python 3 (ipykernel)",
   "language": "python",
   "name": "python3"
  },
  "language_info": {
   "codemirror_mode": {
    "name": "ipython",
    "version": 3
   },
   "file_extension": ".py",
   "mimetype": "text/x-python",
   "name": "python",
   "nbconvert_exporter": "python",
   "pygments_lexer": "ipython3",
   "version": "3.9.7"
  }
 },
 "nbformat": 4,
 "nbformat_minor": 5
}
